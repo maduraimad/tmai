{
 "cells": [
  {
   "cell_type": "markdown",
   "metadata": {},
   "source": [
    "# Trademark design code comparison\n",
    "\n",
    "_Compares computer generated design codes (predicted) to Examiner selected design codes (actual)"
   ]
  },
  {
   "cell_type": "code",
   "execution_count": null,
   "metadata": {},
   "outputs": [],
   "source": [
    "import csv\n",
    "p_file = 'trademarks_dsc_predicted.csv'\n",
    "a_file = 'trademarks_dsc_actuals.csv'"
   ]
  },
  {
   "cell_type": "code",
   "execution_count": null,
   "metadata": {},
   "outputs": [],
   "source": [
    "import csv\n",
    "p_file = '2018_trademark_dsc_predicted.csv'\n",
    "a_file = 'actuals_10596trademark_dsc.csv'"
   ]
  },
  {
   "cell_type": "code",
   "execution_count": null,
   "metadata": {},
   "outputs": [],
   "source": [
    "import csv\n",
    "p_file = '2018_trademark_dsc_predicted.csv'\n",
    "a_file = '2018_trademark_dsc_actuals.csv'"
   ]
  },
  {
   "cell_type": "code",
   "execution_count": null,
   "metadata": {},
   "outputs": [],
   "source": [
    "# read in csv data and write to a dictionary\n",
    "p_data = {}\n",
    "with open(p_file) as fin:\n",
    "    reader = csv.reader(fin, skipinitialspace=True)\n",
    "#     remove if no header\n",
    "    next(reader)\n",
    "    for row in reader:\n",
    "        p_data[row[0]]=set(row[1:])"
   ]
  },
  {
   "cell_type": "code",
   "execution_count": null,
   "metadata": {},
   "outputs": [],
   "source": [
    "# # read in csv data and write to a dictionary\n",
    "a_data = {}\n",
    "with open(a_file) as fin:\n",
    "    reader = csv.reader(fin, skipinitialspace=True)\n",
    "#     remove if no header\n",
    "    next(reader)\n",
    "    for row in reader:\n",
    "        a_data[row[0]]=set(row[1:])\n",
    "# print('Original dict:')\n",
    "# print(a_data)        \n",
    "# filter a_data to remove 26 series codes\n",
    "\n",
    "exclude = ('26.', '02.', '.10')\n",
    "# f_a_data = {}\n",
    "# for k, v in a_data.items():\n",
    "#     f_a_data.setdefault(k,[])\n",
    "#     for code in v:\n",
    "#         print (k, code, not code.startswith(exclude))\n",
    "#         if not code.startswith(exclude):\n",
    "#             f_a_data[k].append(code)\n",
    "        \n",
    "            \n",
    "# print('Filtered dict:')\n",
    "# print(f_a_data)    \n",
    "\n",
    "f_a_data = {k:{x for x in v if all(s not in x for s in exclude)} for k,v in a_data.items()}\n",
    "# print(f_a_data)\n",
    "\n",
    "# if you want to process the filtered actual data, uncomment following line\n",
    "a_data = f_a_data\n",
    "\n",
    "print(a_data)"
   ]
  },
  {
   "cell_type": "markdown",
   "metadata": {},
   "source": [
    "## Run this cell to print the results to the screen"
   ]
  },
  {
   "cell_type": "code",
   "execution_count": null,
   "metadata": {},
   "outputs": [],
   "source": [
    "# run this cell to print results to screen\n",
    "missed_list =[]\n",
    "s_rate ={}\n",
    "# v & p_data[k] is the intersection\n",
    "# v - p_data[k] is in a_data only\n",
    "# p_data[k]-v is in p_data only\n",
    "results = {k: (v & p_data[k], v - p_data[k], p_data[k]-v) for k, v in a_data.items() if k in p_data}\n",
    "\n",
    "for key, value in results.items():\n",
    "    print(f'For {key}: in predicted & actual: {value[0]}, in only actual: {value[1]}, in only predicted: {value[2]}')\n",
    "    missed_list.append(value[1])\n",
    "for key, value in results.items():\n",
    "    if (len(value[0]) + len(value[1])) == 0:\n",
    "        s_rate[keyT] = 1\n",
    "    else:\n",
    "        s_rate[key] = (len(value[0]) / (len(value[0]) + len(value[1])))\n",
    "print(type(s_rate.keys()))\n",
    "\n",
    "for key, value in s_rate.items():\n",
    "    print(f'In application {key}, found {value*100}%')\n",
    "flat_missed_list = [item for sublist in missed_list for item in sublist]\n",
    "# print(flat_missed_list)"
   ]
  },
  {
   "cell_type": "markdown",
   "metadata": {},
   "source": [
    "### Counts & prints the missed design codes "
   ]
  },
  {
   "cell_type": "code",
   "execution_count": null,
   "metadata": {},
   "outputs": [],
   "source": [
    "from collections import Counter\n",
    "c = Counter(flat_missed_list)\n",
    "# print(c.most_common(10))\n",
    "c_short = c.most_common(20)\n",
    "\n",
    "# convert diction to two list for plotting\n",
    "keys = []\n",
    "values = []\n",
    "for k, v in c_short:\n",
    "    keys.append(k)\n",
    "    values.append(v)\n",
    "\n",
    "# print(keys, values)\n",
    "import matplotlib.pyplot as plt\n",
    "import seaborn as sns\n",
    "\n",
    "plt.figure(figsize=(20,10))\n",
    "sns.barplot(y=values, x=keys, alpha=.9, palette='PuBuGn_d')\n",
    "plt.title('Most often missed design codes')\n",
    "plt.ylabel('#', fontsize=12)\n",
    "plt.xlabel('design code', fontsize=12)\n",
    "plt.show()"
   ]
  },
  {
   "cell_type": "markdown",
   "metadata": {},
   "source": [
    "### Plots bar graph of success rate for applications (do not run if looking at more than 10 applications)"
   ]
  },
  {
   "cell_type": "code",
   "execution_count": null,
   "metadata": {},
   "outputs": [],
   "source": [
    "import matplotlib.pyplot as plt\n",
    "import seaborn as sns\n",
    "\n",
    "# convert diction to two list for plotting\n",
    "keys = []\n",
    "values = []\n",
    "for k, v in s_rate.items():\n",
    "    keys.append(k)\n",
    "    values.append(v)\n",
    "\n",
    "# print(keys, values)\n",
    "\n",
    "plt.figure(figsize=(20,15))\n",
    "sns.barplot(y=values, x=keys, alpha=.9, palette='PuBuGn_d')\n",
    "plt.title('Success Rate')\n",
    "plt.ylabel('%', fontsize=12)\n",
    "plt.xlabel('Application Number', fontsize=12)\n",
    "plt.show()"
   ]
  },
  {
   "cell_type": "markdown",
   "metadata": {},
   "source": [
    "## Run this cell to write results to files"
   ]
  },
  {
   "cell_type": "code",
   "execution_count": null,
   "metadata": {},
   "outputs": [],
   "source": [
    "# run this cell to write results to files\n",
    "missed_list =[]\n",
    "s_rate ={}\n",
    "# v & p_data[k] is the intersection\n",
    "# v - p_data[k] is in a_data only\n",
    "# p_data[k]-v is in p_data only\n",
    "results = {k: (v & p_data[k], v - p_data[k], p_data[k]-v) for k, v in a_data.items() if k in p_data}\n",
    "\n",
    "with open('results_verbose.csv', 'w') as fout:\n",
    "    for key, value in results.items():\n",
    "        fout.write(f'For {key}: in predicted & actual: {value[0]}, Not predicted: {value[1]}, extra predictions: {value[2]}\\n')\n",
    "        missed_list.append(value[1])\n",
    "for key, value in results.items():\n",
    "    if (len(value[0]) + len(value[1])) == 0:\n",
    "        s_rate[key] = 1\n",
    "    else:\n",
    "        s_rate[key] = (len(value[0]) / (len(value[0]) + len(value[1])))\n",
    "\n",
    "with open('results_simple.csv', 'w') as fout:\n",
    "    for key, value in s_rate.items():\n",
    "        fout.write(f'{key},{value}\\n')\n",
    "flat_missed_list = [item for sublist in missed_list for item in sublist]\n",
    "# print(flat_missed_list)"
   ]
  },
  {
   "cell_type": "code",
   "execution_count": null,
   "metadata": {},
   "outputs": [],
   "source": [
    "from collections import Counter\n",
    "c = Counter(flat_missed_list)\n",
    "# print(c.most_common(10))\n",
    "c_short = c.most_common()\n",
    "print(c_short)\n",
    "# convert diction to two list for plotting\n",
    "keys = []\n",
    "values = []\n",
    "for k, v in c_short:\n",
    "    keys.append(k)\n",
    "    values.append(v)\n",
    "\n",
    "# print(keys, values)\n",
    "import matplotlib.pyplot as plt\n",
    "import seaborn as sns\n",
    "\n",
    "plt.figure(figsize=(15,10))\n",
    "sns.barplot(y=values, x=keys, alpha=.9, palette='PuBuGn_d')\n",
    "plt.title('Most often missed design codes')\n",
    "plt.ylabel('#', fontsize=12)\n",
    "plt.xlabel('design code', fontsize=12)\n",
    "plt.show();\n",
    "\n",
    "# show most common missed except for:\n",
    "excluded_flat_missed_list = []\n",
    "exclude = ('26', '27')\n",
    "for code in flat_missed_list:\n",
    "    if not code.startswith(exclude):\n",
    "        excluded_flat_missed_list.append(code)\n",
    "xc = Counter(excluded_flat_missed_list)\n",
    "print(xc.most_common(20))"
   ]
  },
  {
   "cell_type": "code",
   "execution_count": null,
   "metadata": {},
   "outputs": [],
   "source": [
    "import pandas as pd\n",
    "\n",
    "with open('results_simple.csv', 'r') as fin:\n",
    "    df = pd.read_csv(fin, header=None, names=['serial','percent'])\n",
    "\n",
    "print(df['percent'].describe())\n",
    "df['percent'].hist(bins=5)\n",
    "print(df['percent'].value_counts(normalize=True).head(10))"
   ]
  },
  {
   "cell_type": "code",
   "execution_count": null,
   "metadata": {},
   "outputs": [],
   "source": [
    "import pandas as pd\n",
    "\n",
    "xdf = pd.DataFrame(excluded_flat_missed_list, columns=['codes'])\n",
    "print(xdf['codes'].describe())\n",
    "print(xdf['codes'].value_counts(normalize=True).head(10))\n"
   ]
  },
  {
   "cell_type": "code",
   "execution_count": null,
   "metadata": {},
   "outputs": [],
   "source": []
  }
 ],
 "metadata": {
  "kernelspec": {
   "display_name": "Python 3",
   "language": "python",
   "name": "python3"
  },
  "language_info": {
   "codemirror_mode": {
    "name": "ipython",
    "version": 3
   },
   "file_extension": ".py",
   "mimetype": "text/x-python",
   "name": "python",
   "nbconvert_exporter": "python",
   "pygments_lexer": "ipython3",
   "version": "3.7.7"
  }
 },
 "nbformat": 4,
 "nbformat_minor": 4
}
